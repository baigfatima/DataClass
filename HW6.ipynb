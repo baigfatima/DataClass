{
 "cells": [
  {
   "cell_type": "code",
   "execution_count": null,
   "metadata": {},
   "outputs": [],
   "source": [
    "# Dependencies and Setup\n",
    "import matplotlib.pyplot as plt\n",
    "import pandas as pd\n",
    "import numpy as np\n",
    "import requests\n",
    "import time\n",
    "from pprint import pprint\n",
    "# Import API key\n",
    "import api_keys\n",
    "\n",
    "# Incorporated citipy to determine city based on latitude and longitude\n",
    "from citipy import citipy\n",
    "\n",
    "# Output File (CSV)\n",
    "output_data_file = \"output_data/cities.csv\"\n",
    "\n",
    "# Range of latitudes and longitudes\n",
    "lat_range = (-90, 90)\n",
    "lng_range = (-180, 180)"
   ]
  },
  {
   "cell_type": "code",
   "execution_count": null,
   "metadata": {},
   "outputs": [],
   "source": [
    "# List for holding lat_lngs and cities\n",
    "lat_lngs = []\n",
    "cities = []\n",
    "\n",
    "# Create a set of random lat and lng combinations\n",
    "lats = np.random.uniform(low=-90.000, high=90.000, size=1500)\n",
    "lngs = np.random.uniform(low=-180.000, high=180.000, size=1500)\n",
    "lat_lngs = zip(lats, lngs)\n",
    "\n",
    "# Identify nearest city for each lat, lng combination\n",
    "for lat_lng in lat_lngs:\n",
    "    city = citipy.nearest_city(lat_lng[0], lat_lng[1]).city_name\n",
    "    \n",
    "    # If the city is unique, then add it to a our cities list\n",
    "    if city not in cities:\n",
    "        cities.append(city)\n",
    "\n",
    "# Print the city count to confirm sufficient count\n",
    "len(cities)\n",
    "\n",
    "url = \"http://api.openweathermap.org/data/2.5/weather?\"\n",
    "units  = \"imperial\""
   ]
  },
  {
   "cell_type": "code",
   "execution_count": null,
   "metadata": {},
   "outputs": [],
   "source": [
    "weather_df = pd.DataFrame({\"City\": cities,\n",
    "                           \"Latitude\": latitude,\n",
    "                           \"Longitude\": longitude,\n",
    "                           \"Humidity\": humidity,\n",
    "                           \"Max Temp\": temperature,\n",
    "                           \"Cloudiness\": cloudiness,\n",
    "                           \"Wind Speed\": wind_speed,\n",
    "                           \"Date\": dates,\n",
    "                           \"Country\": country_codes\n",
    "                          })\n",
    "\n",
    "for x in range(len(cities)): \n",
    "    response = requests.get(f\"{query}{cities[x]},{country_codes[x].upper()}\").json()\n",
    "    \n",
    "    try: \n",
    "        print(f\"Processing record {x + 1} | {cities[x]}\")\n",
    "        df.loc[-1] = [response['name'],\n",
    "                     response['clouds']['all'], \n",
    "                     response['sys']['country'],\n",
    "                     response['dt'],\n",
    "                     response['main']['humidity'], \n",
    "                     response['coord']['lat'],\n",
    "                     response['coord']['lon'],\n",
    "                     response['main']['temp_max'],\n",
    "                     response['wind']['speed']]\n",
    "        df.index = df.index + 1\n",
    "        df = df.sort_index()\n",
    "    except KeyError:\n",
    "        print('City not found. Skipping..')"
   ]
  },
  {
   "cell_type": "code",
   "execution_count": null,
   "metadata": {},
   "outputs": [],
   "source": [
    "weather_df.to_csv()\n",
    "print(df.shape)\n",
    "weather_df.head()"
   ]
  },
  {
   "cell_type": "code",
   "execution_count": null,
   "metadata": {},
   "outputs": [],
   "source": [
    "plt.scatter(x = weather_df['Latitude'], y = weather_df['Max Temp'], edgecolor = 'black')\n",
    "plt.grid()\n",
    "plt.xlabel('Latitude')\n",
    "plt.ylabel('Max Temperature (F)')\n",
    "plt.title('City Latitude vs. Max Temperature')\n",
    "plt.ylim(ymin = min(df['Max Temp']) - (max(df['Max Temp']) - min(df['Max Temp']))/20, ymax = max(df['Max Temp']) + (max(df['Max Temp']) - min(df['Max Temp']))/20)\n",
    "plt.xlim(xmin = min(df['Lat']) - 5, xmax = max(df['Lat']) + 5)\n",
    "plt.savefig('latvstemp.png')\n",
    "plt.show()"
   ]
  },
  {
   "cell_type": "code",
   "execution_count": null,
   "metadata": {
    "scrolled": true
   },
   "outputs": [],
   "source": [
    "plt.scatter(x = weather_df['Latitude'], y = weather_df['Humidity'], edgecolor = 'black')\n",
    "plt.grid()\n",
    "plt.xlabel('Latitude')\n",
    "plt.ylabel('Humidity (%)')\n",
    "plt.title('City Latitude vs. Humidity')\n",
    "plt.ylim(ymin = min(df['Humidity']) - (max(df['Humidity']) - min(df['Humidity']))/20, ymax = max(df['Humidity']) + (max(df['Humidity']) - min(df['Humidity']))/20)\n",
    "plt.xlim(xmin = min(df['Lat']) - 5, xmax = max(df['Lat']) + 5)\n",
    "plt.savefig('latvshumidity.png')\n",
    "plt.show()"
   ]
  },
  {
   "cell_type": "code",
   "execution_count": null,
   "metadata": {},
   "outputs": [],
   "source": [
    "plt.scatter(x = weather_df['Latitude'], y = weather_df['Cloudiness'], edgecolor = 'black')\n",
    "plt.grid()\n",
    "plt.xlabel('Latitude')\n",
    "plt.ylabel('Cloudiness (%)')\n",
    "plt.title('City Latitude vs. Cloudiness')\n",
    "plt.ylim(ymin = min(df['Cloudiness']) - (max(df['Cloudiness']) - min(df['Cloudiness']))/20, ymax = max(df['Cloudiness']) + (max(df['Cloudiness']) - min(df['Cloudiness']))/20)\n",
    "plt.xlim(xmin = min(df['Lat']) - 5, xmax = max(df['Lat']) + 5)\n",
    "plt.savefig('latvscloudiness.png')\n",
    "plt.show()"
   ]
  },
  {
   "cell_type": "code",
   "execution_count": null,
   "metadata": {},
   "outputs": [],
   "source": [
    "plt.scatter(x = weather_df['Latitude'], y = weather_df['Wind Speed'], edgecolor = 'black')\n",
    "plt.grid()\n",
    "plt.xlabel('Latitude')\n",
    "plt.ylabel('Wind Speed (%)')\n",
    "plt.title('City Latitude vs. Wind Speed')\n",
    "plt.ylim(ymin = min(df['Wind Speed']) - (max(df['Wind Speed']) - min(df['Wind Speed']))/20, ymax = max(df['Wind Speed']) + (max(df['Wind Speed']) - min(df['Wind Speed']))/20)\n",
    "plt.xlim(xmin = min(df['Lat']) - 5, xmax = max(df['Lat']) + 5)\n",
    "plt.savefig('latvswindspeed.png')\n",
    "plt.show()"
   ]
  }
 ],
 "metadata": {
  "kernelspec": {
   "display_name": "Python 3",
   "language": "python",
   "name": "python3"
  },
  "language_info": {
   "codemirror_mode": {
    "name": "ipython",
    "version": 3
   },
   "file_extension": ".py",
   "mimetype": "text/x-python",
   "name": "python",
   "nbconvert_exporter": "python",
   "pygments_lexer": "ipython3",
   "version": "3.7.0"
  }
 },
 "nbformat": 4,
 "nbformat_minor": 2
}
